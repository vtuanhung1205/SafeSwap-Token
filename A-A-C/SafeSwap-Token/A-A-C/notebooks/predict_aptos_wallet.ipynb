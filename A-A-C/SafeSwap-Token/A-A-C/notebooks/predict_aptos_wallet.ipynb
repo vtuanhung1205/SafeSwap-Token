{
 "cells": [
  {
   "cell_type": "code",
   "id": "initial_id",
   "metadata": {
    "collapsed": true,
    "ExecuteTime": {
     "end_time": "2025-07-15T10:28:31.049027Z",
     "start_time": "2025-07-15T10:28:30.937870Z"
    }
   },
   "source": [
    "# --- 1. IMPORT THƯ VIỆN VÀ ĐỊNH NGHĨA HÀM ---\n",
    "\n",
    "import pandas as pd\n",
    "import numpy as np\n",
    "import requests\n",
    "import json\n",
    "import time\n",
    "from datetime import datetime, timezone\n",
    "import collections\n",
    "import joblib\n",
    "import os\n",
    "\n",
    "# QUAN TRỌNG: Định nghĩa lại hàm cyclical_encoder để joblib có thể tải pipeline\n",
    "# (Copy từ notebook training)\n",
    "def cyclical_encoder(X):\n",
    "    X_encoded = np.array([])\n",
    "    max_vals = [23, 6, 12]\n",
    "    for i in range(X.shape[1]):\n",
    "        col_data = X[:, i:i+1]\n",
    "        max_val = max_vals[i]\n",
    "        X_sin = np.sin(2 * np.pi * col_data / (max_val + 1))\n",
    "        X_cos = np.cos(2 * np.pi * col_data / (max_val + 1))\n",
    "        if X_encoded.size == 0:\n",
    "            X_encoded = np.concatenate([X_sin, X_cos], axis=1)\n",
    "        else:\n",
    "            X_encoded = np.concatenate([X_encoded, X_sin, X_cos], axis=1)\n",
    "    return X_encoded\n",
    "\n",
    "print(\"✅ Các thư viện và hàm tùy chỉnh đã sẵn sàng.\")"
   ],
   "outputs": [
    {
     "name": "stdout",
     "output_type": "stream",
     "text": [
      "✅ Các thư viện và hàm tùy chỉnh đã sẵn sàng.\n"
     ]
    }
   ],
   "execution_count": 1
  },
  {
   "metadata": {
    "ExecuteTime": {
     "end_time": "2025-07-15T10:28:31.194458Z",
     "start_time": "2025-07-15T10:28:31.176680Z"
    }
   },
   "cell_type": "code",
   "source": [
    "# --- 2. CÁC HÀM THU THẬP DỮ LIỆU ---\n",
    "\n",
    "NODE_URL = \"https://fullnode.mainnet.aptoslabs.com/v1\"\n",
    "\n",
    "def get_all_transactions(session, address):\n",
    "    all_transactions = []\n",
    "    start = 0\n",
    "    limit = 100\n",
    "    while True:\n",
    "        params = {'start': start, 'limit': limit}\n",
    "        try:\n",
    "            response = session.get(f\"{NODE_URL}/accounts/{address}/transactions\", params=params)\n",
    "            response.raise_for_status()\n",
    "            transactions = response.json()\n",
    "            if not transactions: break\n",
    "            all_transactions.extend(transactions)\n",
    "            start += len(transactions)\n",
    "            if len(transactions) < limit: break\n",
    "            time.sleep(0.1)\n",
    "        except requests.exceptions.RequestException:\n",
    "            break\n",
    "    return all_transactions\n",
    "\n",
    "def get_wallet_resources(session, address):\n",
    "    try:\n",
    "        response = session.get(f\"{NODE_URL}/accounts/{address}/resources\")\n",
    "        response.raise_for_status()\n",
    "        return response.json()\n",
    "    except requests.exceptions.RequestException:\n",
    "        return []\n",
    "\n",
    "# NÂNG CẤP: Hàm này được sửa lại để tạo ra các feature giống hệt lúc train\n",
    "def create_feature_dataframe(session, address):\n",
    "    all_transactions = get_all_transactions(session, address)\n",
    "    resources = get_wallet_resources(session, address)\n",
    "\n",
    "    # Khởi tạo profile với các giá trị mặc định\n",
    "    profile = {\n",
    "        'wallet_age_days': 0, 'apt_balance': 0, 'other_token_count': 0,\n",
    "        'total_transaction_count': 0, 'successful_transaction_count': 0, 'failed_transaction_count': 0,\n",
    "        'unique_interacted_contracts': 0, 'unique_interacted_addresses': 0,\n",
    "        'avg_time_between_tx_seconds': -1, 'std_dev_time_between_tx_seconds': -1,\n",
    "        'most_active_hour': -1, 'is_self_funded': 1,\n",
    "        # Thêm các feature mới giống lúc train\n",
    "        'tx_day_of_week': -1, 'tx_month': -1, 'tx_day_of_month': -1,\n",
    "        'success_rate': 0, 'new_contract_rate': 0, 'balance_per_tx': 0\n",
    "    }\n",
    "\n",
    "    if not all_transactions:\n",
    "        print(f\"!!! CẢNH BÁO: Không tìm thấy giao dịch nào cho ví {address}\")\n",
    "        return pd.DataFrame([profile])\n",
    "\n",
    "    # Tính toán các feature cơ bản\n",
    "    profile['total_transaction_count'] = len(all_transactions)\n",
    "    profile['successful_transaction_count'] = sum(1 for tx in all_transactions if tx['success'])\n",
    "    profile['failed_transaction_count'] = profile['total_transaction_count'] - profile['successful_transaction_count']\n",
    "\n",
    "    # Tính toán các feature thời gian\n",
    "    first_tx = all_transactions[-1]\n",
    "    first_tx_timestamp = int(first_tx['timestamp']) // 1000000\n",
    "    creation_datetime = datetime.fromtimestamp(first_tx_timestamp, tz=timezone.utc)\n",
    "    profile['wallet_age_days'] = (datetime.now(timezone.utc) - creation_datetime).days\n",
    "    profile['tx_day_of_week'] = creation_datetime.dayofweek # 0=Thứ 2, 6=Chủ Nhật\n",
    "    profile['tx_month'] = creation_datetime.month\n",
    "    profile['tx_day_of_month'] = creation_datetime.day\n",
    "\n",
    "    timestamps = sorted([int(tx['timestamp']) // 1000000 for tx in all_transactions])\n",
    "    hours = [datetime.fromtimestamp(ts, tz=timezone.utc).hour for ts in timestamps]\n",
    "    if hours:\n",
    "        profile['most_active_hour'] = collections.Counter(hours).most_common(1)[0][0]\n",
    "\n",
    "    # Các feature khác\n",
    "    if first_tx.get('sender') != address:\n",
    "        profile['is_self_funded'] = 0\n",
    "\n",
    "    apt_balance = 0\n",
    "    other_token_count = 0\n",
    "    for resource in resources:\n",
    "        if resource['type'] == '0x1::coin::CoinStore<0x1::aptos_coin::AptosCoin>':\n",
    "            apt_balance = int(resource['data']['coin']['value']) / 10**8\n",
    "        elif resource['type'].startswith('0x1::coin::CoinStore<'):\n",
    "            other_token_count += 1\n",
    "    profile['apt_balance'] = apt_balance\n",
    "    profile['other_token_count'] = other_token_count\n",
    "\n",
    "    interacted_contracts = {tx['payload']['function'].split('::')[0] for tx in all_transactions if tx['payload'].get('function')}\n",
    "    profile['unique_interacted_contracts'] = len(interacted_contracts)\n",
    "\n",
    "    # Tính các feature tỷ lệ\n",
    "    profile['success_rate'] = profile['successful_transaction_count'] / (profile['total_transaction_count'] + 1e-6)\n",
    "    profile['new_contract_rate'] = profile['unique_interacted_contracts'] / (profile['total_transaction_count'] + 1e-6)\n",
    "    profile['balance_per_tx'] = profile['apt_balance'] / (profile['total_transaction_count'] + 1e-6)\n",
    "\n",
    "    return pd.DataFrame([profile])\n",
    "\n",
    "print(\"✅ Các hàm thu thập dữ liệu đã sẵn sàng.\")"
   ],
   "id": "85f54a01abe8fafd",
   "outputs": [
    {
     "name": "stdout",
     "output_type": "stream",
     "text": [
      "✅ Các hàm thu thập dữ liệu đã sẵn sàng.\n"
     ]
    }
   ],
   "execution_count": 2
  },
  {
   "metadata": {
    "ExecuteTime": {
     "end_time": "2025-07-15T10:28:31.400458Z",
     "start_time": "2025-07-15T10:28:31.226247Z"
    }
   },
   "cell_type": "code",
   "source": [
    "# --- 3. TẢI PIPELINE AI ---\n",
    "\n",
    "PIPELINE_PATH = 'C:/A-A-C/models/aptos_pro_pipeline.joblib'\n",
    "\n",
    "try:\n",
    "    # Chỉ cần tải pipeline, không cần scaler riêng nữa\n",
    "    loaded_pipeline = joblib.load(PIPELINE_PATH)\n",
    "    print(\"✅ Tải thành công pipeline AI.\")\n",
    "except FileNotFoundError:\n",
    "    print(f\"❌ LỖI: Không tìm thấy file pipeline tại '{PIPELINE_PATH}'.\")\n",
    "    print(\"   Vui lòng chạy notebook 'train_aptos.ipynb' để tạo file pipeline trước.\")\n",
    "    loaded_pipeline = None"
   ],
   "id": "3b728b879f0f82a9",
   "outputs": [
    {
     "name": "stdout",
     "output_type": "stream",
     "text": [
      "✅ Tải thành công pipeline AI.\n"
     ]
    }
   ],
   "execution_count": 3
  },
  {
   "metadata": {
    "ExecuteTime": {
     "end_time": "2025-07-15T10:28:32.045461Z",
     "start_time": "2025-07-15T10:28:31.448998Z"
    }
   },
   "cell_type": "code",
   "source": [
    "# --- 4. NHẬP VÍ VÀ DỰ ĐOÁN ---\n",
    "\n",
    "if loaded_pipeline:\n",
    "    # ĐIỀN ĐỊA CHỈ VÍ BẠN MUỐN KIỂM TRA VÀO ĐÂY\n",
    "    wallet_to_predict = \"0x3a1f89c3768e0ec0fa92aeafbc5bb233e1ae0863dc33cd79f1f0f1e1acdad42b\"\n",
    "\n",
    "    print(f\"--- Bắt đầu lấy dữ liệu và tạo feature cho ví: {wallet_to_predict} ---\")\n",
    "    session = requests.Session()\n",
    "    # 1. Tạo DataFrame feature thô\n",
    "    wallet_df = create_feature_dataframe(session, wallet_to_predict)\n",
    "\n",
    "    print(\"\\n--- Thực hiện dự đoán bằng pipeline ---\")\n",
    "    # 2. Đưa thẳng DataFrame vào pipeline. Pipeline sẽ tự động xử lý mọi thứ.\n",
    "    prediction = loaded_pipeline.predict(wallet_df)\n",
    "    prediction_proba = loaded_pipeline.predict_proba(wallet_df)\n",
    "\n",
    "    # --- Hiển thị kết quả ---\n",
    "    print(\"\\n================ KẾT QUẢ DỰ ĐOÁN ================\")\n",
    "    result_label = \"SYBIL (Đáng nghi)\" if prediction[0] == 1 else \"NORMAL (Người dùng thường)\"\n",
    "    confidence = prediction_proba[0][prediction[0]] * 100\n",
    "\n",
    "    print(f\"Ví: {wallet_to_predict}\")\n",
    "    print(f\"==> Kết quả: {result_label}\")\n",
    "    print(f\"==> Độ tin cậy của mô hình: {confidence:.2f}%\")\n",
    "    print(\"-------------------------------------------------\")\n",
    "    print(f\"Xác suất là Normal (0): {prediction_proba[0][0]*100:.2f}%\")\n",
    "    print(f\"Xác suất là Sybil (1):  {prediction_proba[0][1]*100:.2f}%\")\n",
    "    print(\"=================================================\")\n",
    "else:\n",
    "    print(\"❌ Không thể dự đoán vì pipeline chưa được tải.\")"
   ],
   "id": "be19eaf146602cf8",
   "outputs": [
    {
     "name": "stdout",
     "output_type": "stream",
     "text": [
      "--- Bắt đầu lấy dữ liệu và tạo feature cho ví: 0x3a1f89c3768e0ec0fa92aeafbc5bb233e1ae0863dc33cd79f1f0f1e1acdad42b ---\n",
      "!!! CẢNH BÁO: Không tìm thấy giao dịch nào cho ví 0x3a1f89c3768e0ec0fa92aeafbc5bb233e1ae0863dc33cd79f1f0f1e1acdad42b\n",
      "\n",
      "--- Thực hiện dự đoán bằng pipeline ---\n",
      "\n",
      "================ KẾT QUẢ DỰ ĐOÁN ================\n",
      "Ví: 0x3a1f89c3768e0ec0fa92aeafbc5bb233e1ae0863dc33cd79f1f0f1e1acdad42b\n",
      "==> Kết quả: SYBIL (Đáng nghi)\n",
      "==> Độ tin cậy của mô hình: 65.10%\n",
      "-------------------------------------------------\n",
      "Xác suất là Normal (0): 34.90%\n",
      "Xác suất là Sybil (1):  65.10%\n",
      "=================================================\n"
     ]
    }
   ],
   "execution_count": 4
  }
 ],
 "metadata": {
  "kernelspec": {
   "display_name": "Python 3",
   "language": "python",
   "name": "python3"
  },
  "language_info": {
   "codemirror_mode": {
    "name": "ipython",
    "version": 2
   },
   "file_extension": ".py",
   "mimetype": "text/x-python",
   "name": "python",
   "nbconvert_exporter": "python",
   "pygments_lexer": "ipython2",
   "version": "2.7.6"
  }
 },
 "nbformat": 4,
 "nbformat_minor": 5
}
